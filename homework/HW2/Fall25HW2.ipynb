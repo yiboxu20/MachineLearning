{
  "nbformat": 4,
  "nbformat_minor": 0,
  "metadata": {
    "colab": {
      "provenance": []
    },
    "kernelspec": {
      "name": "python3",
      "display_name": "Python 3"
    },
    "language_info": {
      "name": "python"
    }
  },
  "cells": [
    {
      "cell_type": "markdown",
      "metadata": {
        "id": "0PPmXK0NPB16"
      },
      "source": [
        "# Homework 2\n",
        "## Homework guideline\n",
        "- The deadline is Sep **th 11am. Submission after the deadline will not be graded.\n",
        "\n",
        "- Submit your work(your reasoning and your code) as a SINGLE .ipynb document. Please rename the document as _HW1_YOURNAME.ipynb_ (for example, _HW1_Xu_Yibo.ipynb_). You are responsible for checking that you have correctly submitted the correct document. If your code cannot run, you may receive NO point.\n",
        "\n",
        "- Please justify all short answers with a brief explanation. If you use latex command in the markdown, **1 points** bonus will be awarded.  \n",
        "\n",
        "- You only use the Python packages included in the following cell. You are not allowed to use other advanced package or modules unless you are permitted to.\n",
        "\n",
        "- In your final submission include the plots produced by the unedited code as presented below, as well as any additional plots produced after editing the code during the course of a problem. You may find it necessary to copy/paste relevant code into additional cells to accomplish this.\n",
        "\n",
        "- Feel free to use the lecture notes and other resources but work on your own!"
      ]
    },
    {
      "cell_type": "markdown",
      "source": [
        "**Collaboration:** List the names of all people you collaborated with and for which question(s). This is important!\n"
      ],
      "metadata": {
        "id": "zAX451c2vvQn"
      }
    },
    {
      "cell_type": "code",
      "metadata": {
        "colab": {
          "base_uri": "https://localhost:8080/"
        },
        "id": "tZDH51c-2EU1",
        "outputId": "3aac39d5-9eff-40f0-b565-99c1777dffcf"
      },
      "source": [
        "%pylab inline\n"
      ],
      "execution_count": 1,
      "outputs": [
        {
          "output_type": "stream",
          "name": "stdout",
          "text": [
            "Populating the interactive namespace from numpy and matplotlib\n"
          ]
        }
      ]
    },
    {
      "cell_type": "markdown",
      "source": [
        "# Q1: Numpy practice problems (10pt)\n",
        "---\n",
        "### Q1.1  Find the most frequent value in an array $Z$"
      ],
      "metadata": {
        "id": "ls3W51wD3Nkp"
      }
    },
    {
      "cell_type": "code",
      "source": [
        "Z = np.random.randint(0,10,500)\n",
        "# insert your code here"
      ],
      "metadata": {
        "id": "fWYEYkUa3dCG"
      },
      "execution_count": 2,
      "outputs": []
    },
    {
      "cell_type": "markdown",
      "source": [
        "---\n",
        "### Q1.2 Find the nearest value from a given value $z$ in an array $Z$"
      ],
      "metadata": {
        "id": "GjnIyAqf4c3B"
      }
    },
    {
      "cell_type": "code",
      "source": [
        "Z = np.random.uniform(0,1,10)\n",
        "z = 0.5\n",
        "# insert your code here"
      ],
      "metadata": {
        "id": "bUwlrgAn4kuq"
      },
      "execution_count": 3,
      "outputs": []
    },
    {
      "cell_type": "markdown",
      "source": [
        "---\n",
        "---\n",
        "# Q2: Implementation of derivative from HW1 (15pt)\n",
        "---\n",
        "### Q2.1 Softmax function (5pt)\n",
        "Implement a function ```softmax(z)``` such that calculate the softmax function. Verify it with several examples. For example, ```softmax([10, 20, 30])```\n",
        "\n"
      ],
      "metadata": {
        "id": "y2bzksSY_oZk"
      }
    },
    {
      "cell_type": "code",
      "source": [
        "# your function starts here"
      ],
      "metadata": {
        "id": "qWKLU3RvAarw"
      },
      "execution_count": 4,
      "outputs": []
    },
    {
      "cell_type": "markdown",
      "source": [
        "---\n",
        "### Q2.2 Derivative of Softmax function (10pt)\n",
        "Implement a function ```Dsoftmax(z)``` such that caluclate the gradient of softmax function. Verify it with several examples."
      ],
      "metadata": {
        "id": "HtoWXH2IAio5"
      }
    },
    {
      "cell_type": "code",
      "source": [
        "# your function starts here"
      ],
      "metadata": {
        "id": "w_g3sJjZBett"
      },
      "execution_count": 5,
      "outputs": []
    },
    {
      "cell_type": "markdown",
      "source": [
        "\n",
        "\n",
        "---\n",
        "\n",
        "\n",
        "### Q2.3 (optional) Softmax function: fix the bug\n",
        "Try your function with ```softmax([1000, 2000, 3000])```.\n",
        "\n",
        "(a) Is your function  still working properly? What is the bug here?\n",
        "\n",
        "(b) Please modify your code to fix it."
      ],
      "metadata": {
        "id": "OQuRG2CSvPox"
      }
    },
    {
      "cell_type": "code",
      "source": [
        "# your function starts here\n"
      ],
      "metadata": {
        "id": "TtAPF95Ed6dv"
      },
      "execution_count": 6,
      "outputs": []
    },
    {
      "cell_type": "markdown",
      "metadata": {
        "id": "rtKWusbFzQIk"
      },
      "source": [
        "---\n",
        "---\n",
        "# Modified MNIST\n",
        "I modified the the original MNIST gray-scale image dataset, where samples of digit 9 belong to class 1, and otherwise class 0. Now it becomes binary logistic regression.\n",
        "It contains a training set of images $\\texttt{Xtr}$ with labels $\\texttt{Ytr}$ and a testing set\n",
        "of images $\\texttt{Xte}$ with labels $\\texttt{Yte}$. There are 6000 samples in training sets and 1000 samples in testing sets."
      ]
    },
    {
      "cell_type": "code",
      "metadata": {
        "colab": {
          "base_uri": "https://localhost:8080/"
        },
        "id": "egCp1Xyi2A60",
        "outputId": "5ea2ec00-3d4e-4984-ac0a-7cc581be9be4"
      },
      "source": [
        "from keras.datasets import mnist\n",
        "(train_X, train_y), (test_X, test_y) = mnist.load_data()\n",
        "Xtr                   = train_X[0:6000, :]\n",
        "train_y_part          = train_y[0:6000]\n",
        "Ytr                   = zeros(train_y_part.size)\n",
        "Ytr[train_y_part==9]=1\n",
        "\n",
        "Xte                   = test_X[0:1000,:]\n",
        "test_y_part           = test_y[0:1000]\n",
        "Yte  = zeros(test_y_part.size)\n",
        "Yte[test_y_part==9]=1\n",
        "\n",
        "print('Xtr: ' + str(Xtr.shape))\n",
        "print('Ytr: ' + str(Ytr.shape))\n",
        "print('Xte: '  + str(Xte.shape))\n",
        "print('Yte: '  + str(Yte.shape))\n",
        "\n"
      ],
      "execution_count": 7,
      "outputs": [
        {
          "output_type": "stream",
          "name": "stdout",
          "text": [
            "Xtr: (6000, 28, 28)\n",
            "Ytr: (6000,)\n",
            "Xte: (1000, 28, 28)\n",
            "Yte: (1000,)\n"
          ]
        }
      ]
    },
    {
      "cell_type": "code",
      "metadata": {
        "colab": {
          "base_uri": "https://localhost:8080/",
          "height": 832
        },
        "id": "mTnDjIzx3R24",
        "outputId": "c31e2d12-44c1-4a87-af48-c045575d2290"
      },
      "source": [
        "fig, axs = plt.subplots(3, 3,figsize=(10,10))\n",
        "axs = axs.ravel()\n",
        "index = where(Ytr>0)[0]\n",
        "for i in range(9):\n",
        "    axs[i].imshow(Xtr[index[i]], cmap=pyplot.get_cmap('gray'))"
      ],
      "execution_count": 8,
      "outputs": [
        {
          "output_type": "display_data",
          "data": {
            "text/plain": [
              "<Figure size 1000x1000 with 9 Axes>"
            ],
            "image/png": "[encoded data removed]"
          },
          "metadata": {}
        }
      ]
    },
    {
      "cell_type": "markdown",
      "metadata": {
        "id": "_f5Jvc-04O05"
      },
      "source": [
        "## Q3: Logistic regression (30pt)\n",
        "\n",
        "---\n",
        "\n",
        "\n",
        "### 1. Data preparation for training and testing (10pt)\n",
        "(a). Prepare your matrix $\\mathbf{X}$ and your output label $\\mathbf{y}$ for the training data.\n",
        "\n",
        "(b). Please count the number of 9 out of these 60000 training set.\n",
        "\n",
        "(c). What is the dimension of the matrix $\\mathbf{X}$?\n",
        "\n",
        "(d). Don't forget to do the same preparation for the testing data."
      ]
    },
    {
      "cell_type": "code",
      "metadata": {
        "id": "zfPxewPNPaxI"
      },
      "source": [
        " #@title Q3.1 your code starts here\n",
        ""
      ],
      "execution_count": 9,
      "outputs": []
    },
    {
      "cell_type": "markdown",
      "metadata": {
        "id": "ERvvzBXc5khg"
      },
      "source": [
        "### **Your Answer:**"
      ]
    },
    {
      "cell_type": "markdown",
      "metadata": {
        "id": "joKAPaOEnOu-"
      },
      "source": [
        "\n",
        "---\n",
        "### 2. Logistic regression (20pt)\n",
        "\n",
        "(a). Perform logistic regression with the sigmoid activation function using **mini-batches descent method**. The mini-batch size is 25, the learning rate is $\\eta_t = \\frac{1}{(1+2t)^3}$ and total iteration number is $50$. You might need to restart the training with better initial conditions. Modify my code to accomodate it.\n",
        "\n",
        "(b). Please use the testing set to validate the logistic regression model. What is the test error rate?  \n",
        "\n",
        "(c). Could you plot serveral pictures that logistic regression model misclassified the digit 9.\n"
      ]
    },
    {
      "cell_type": "code",
      "metadata": {
        "id": "rqnurYHKpfEO"
      },
      "source": [
        " #@title Q3.2 your code starts here\n"
      ],
      "execution_count": 10,
      "outputs": []
    },
    {
      "cell_type": "markdown",
      "metadata": {
        "id": "31BQ2vMFphF6"
      },
      "source": [
        "### **Your Answer:**"
      ]
    },
    {
      "cell_type": "markdown",
      "metadata": {
        "id": "SGwYMQh5veK-"
      },
      "source": [
        "\n",
        "\n",
        "\n",
        "\n",
        "\n",
        "## Q4: Support Vector Machine (45pt)\n",
        "\n",
        "\n",
        "---\n",
        "\n",
        "### 1. Data preparation for training and testing (5pt)\n",
        "Remember in SVM we move the interception out and define the class label is $\\pm1$.\n",
        "\n",
        "(a). Prepare your matrix $\\mathbf{X}$ and your output label $\\mathbf{y}$ for the training data.\n",
        "\n",
        "(b). Don't forget to do the same preparation for the testing data.\n",
        "\n",
        "(c). Can you impose the hard margin classifier for this problem? Why or why not?\n"
      ]
    },
    {
      "cell_type": "code",
      "metadata": {
        "id": "qZkgjb2Gy4Uh"
      },
      "source": [
        " #@title Q4.1 your code starts here\n"
      ],
      "execution_count": 11,
      "outputs": []
    },
    {
      "cell_type": "markdown",
      "metadata": {
        "id": "9Qt_c9mGwU1T"
      },
      "source": [
        "### **Your Answer:**"
      ]
    },
    {
      "cell_type": "markdown",
      "metadata": {
        "id": "ulRUTLcDzRHl"
      },
      "source": [
        "\n",
        "\n",
        "---\n",
        "\n",
        "\n",
        "### 2. Soft Margin with Hinge Loss (15pt)\n",
        "Perform the soft margin with hinge loss using stochastic gradient descent method.\n",
        "$$\\boxed{\\min_{\\mathbf{w}\\in \\mathbb{R}^d, w_0\\in \\mathbb{R}} \\lambda\\sum_{i=1}^N \\max\\left\\{0, 1-\\mathbf{y}^{(i)}(\\mathbf{w}^\\top \\mathbf{x}^{(i)}+w_0)\\right\\} +\\frac{1}{2} \\|\\mathbf{w}\\|_2^2 }$$\n",
        "The learning rate is $\\eta_t = \\frac{1}{(1+2t)^2}$ and total iteration number is $100$. The regulation parameter $\\lambda$ is selected as follows,\n",
        "$$ \\lambda\\in \\{10^{-4},10^{-3},10^{-2},10^{-1},1,10,100,1000,10000 \\}$$\n",
        "Report the test error rates for each $\\lambda$ and find the best parameter $\\lambda$.\n",
        "You might need to restart the training with better initial conditions.\n"
      ]
    },
    {
      "cell_type": "code",
      "metadata": {
        "id": "l2cxjlVZ3HK4"
      },
      "source": [
        " #@title Q4.2 your code starts here\n"
      ],
      "execution_count": 12,
      "outputs": []
    },
    {
      "cell_type": "markdown",
      "metadata": {
        "id": "3t3xKcF-3KLH"
      },
      "source": [
        "### **Your Answer:**"
      ]
    },
    {
      "cell_type": "markdown",
      "metadata": {
        "id": "Y0y8ouw8IPOY"
      },
      "source": [
        "\n",
        "\n",
        "---\n",
        "\n",
        "\n",
        "### 3. Prepare for soft margin with log loss (10pt)\n",
        "Please compute the following two gradient:\n",
        "$$ \\nabla_\\mathbf{w} \\log\\left(1+e^{-y^{(i)}(\\mathbf{w}^\\top\\mathbf{x}^{(i)}+w_0 )}\\right)= $$\n",
        "\n",
        "$$ \\nabla_{w_0}\\log\\left(1+e^{-y^{(i)}(\\mathbf{w}^\\top\\mathbf{x}^{(i)}+w_0 )}\\right)=$$"
      ]
    },
    {
      "cell_type": "markdown",
      "metadata": {
        "id": "KPW7r24hI0Bc"
      },
      "source": [
        "### **Your Answer:**"
      ]
    },
    {
      "cell_type": "markdown",
      "metadata": {
        "id": "ewDvguQH9XS-"
      },
      "source": [
        "\n",
        "\n",
        "---\n",
        "\n",
        "\n",
        "### 4. Soft Margin with Log Loss (15pt)\n",
        "Perform the soft margin with log loss using stochastic gradient descent method.\n",
        "$$\\boxed{\\min_{\\mathbf{w}\\in \\mathbb{R}^d, w_0\\in\\mathbb{R}}  \\lambda \\sum_{i=1}^N\\log\\left(1+e^{-y^{(i)}(\\mathbf{w}^\\top\\mathbf{x}^{(i)}+w_0 )}\\right)  +\\frac{1}{2}\\|\\mathbf{w}\\|_2^2 } $$\n",
        "Similarly, the learning rate is $\\eta_t = \\frac{1}{(1+2t)^2}$ and total iteration number is $100$. The regulation parameter $\\lambda$ is selected as follows,\n",
        "$$ \\lambda\\in \\{10^{-4},10^{-3},10^{-2},10^{-1},1,10,100,1000,10000 \\}$$\n",
        "Report the test error rates for each $\\lambda$ and find the best parameter $\\lambda$.\n",
        "You might need to restart the training with better initial conditions.\n"
      ]
    },
    {
      "cell_type": "code",
      "metadata": {
        "id": "6GzE4I64Mdqp"
      },
      "source": [
        " #@title Q4.4 your code starts here\n"
      ],
      "execution_count": 13,
      "outputs": []
    },
    {
      "cell_type": "markdown",
      "metadata": {
        "id": "iQ9_jl56Mf1_"
      },
      "source": [
        "### **Your Answer:**"
      ]
    }
  ]
}